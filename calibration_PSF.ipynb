{
 "cells": [
  {
   "cell_type": "code",
   "execution_count": null,
   "metadata": {},
   "outputs": [],
   "source": [
    "import numpy as np\n",
    "import matplotlib.pyplot as plt\n",
    "import matplotlib\n",
    "from matplotlib.colors import LogNorm\n",
    "\n",
    "from astropy.table import Table, join, QTable, vstack\n",
    "import astropy.units as u\n",
    "import sys\n",
    "import pyneb as pn\n",
    "from multiprocessing import Pool\n",
    "import multiprocessing as mp\n",
    "import math\n",
    "from astropy.io import fits\n",
    "from orcs.process import SpectralCube\n",
    "\n",
    "from astropy.nddata import NDData, Cutout2D\n",
    "from astropy.wcs import WCS\n",
    "\n",
    "import astropy\n",
    "import astropy.units as u\n",
    "from astropy.coordinates import SkyCoord\n",
    "\n",
    "from reproject import reproject_interp\n",
    "import reproject\n",
    "from regions import PixCoord\n",
    "\n",
    "import pylab as pl\n",
    "\n",
    "from scipy.optimize import curve_fit\n",
    "from scipy.integrate import quad\n",
    "\n",
    "from orb.fit import fit_lines_in_spectrum\n",
    "from orb.utils.spectrum import corr2theta, amp_ratio_from_flux_ratio\n",
    "from orb.core import Lines\n",
    "import gvar\n",
    "import orb\n",
    "\n",
    "import extinction\n",
    "from extinction import apply, remove\n",
    "\n",
    "from photutils.detection import DAOStarFinder\n",
    "\n",
    "import aplpy\n",
    "\n",
    "from astropy.stats import sigma_clipped_stats\n",
    "from photutils.psf import extract_stars\n",
    "from astropy.visualization import simple_norm\n",
    "from photutils.psf import EPSFBuilder\n",
    "\n",
    "from mpl_toolkits.mplot3d import Axes3D"
   ]
  },
  {
   "cell_type": "markdown",
   "metadata": {},
   "source": [
    "### Import data"
   ]
  },
  {
   "cell_type": "code",
   "execution_count": null,
   "metadata": {},
   "outputs": [],
   "source": [
    "galaxynum = 6\n",
    "galdic = {1:'NGC4254', 2:'NGC4535', 3:'NGC3351', 4:'NGC2835', 5:'NGC0628', 6:'NGC3627'}  #There is no SITELLE data for NGC 4254, NGC 2835 has the best data \n",
    "galaxy = galdic[galaxynum]\n",
    "galaxy\n",
    "\n",
    "galveldic = {'NGC4254': 2388 , 'NGC4535': 1954  , 'NGC3351': 775, 'NGC2835': 867, 'NGC0628':651, 'NGC3627':715}\n",
    "galvel = galveldic[galaxy]\n",
    "\n",
    "inter_data_path = '/home/habjan/SITELLE/data/data_raw_intermediate'\n",
    "\n",
    "infile = inter_data_path + f\"/{galaxy}_cube.hdf5\"\n",
    "cube = SpectralCube(infile)\n",
    "\n",
    "hdul = fits.open(inter_data_path + f\"/{galaxy}_IMAGE_FOV_Johnson_B_WCS_Pall_mad.fits\")\n",
    "muse_data = NDData(data=hdul['DATA'].data, mask=np.isnan(hdul['DATA'].data), meta=hdul['DATA'].header, wcs=WCS(hdul['DATA'].header)) \n",
    "\n",
    "hdul = fits.open(inter_data_path + f\"/{galaxy}_SDSS_g.fits\")\n",
    "fits_rband = hdul['DATA']\n",
    "muse_rband = NDData(data=hdul['DATA'].data, mask=np.isnan(hdul['DATA'].data), meta=hdul['DATA'].header, wcs=WCS(hdul['DATA'].header)) \n",
    "\n",
    "hdul = fits.open(inter_data_path + f\"/{galaxy}_Johnson_Bcopt.fits\")\n",
    "fits_bband = hdul['DATA']\n",
    "muse_bband = NDData(data=hdul['DATA'].data, mask=np.isnan(hdul['DATA'].data), meta=hdul['DATA'].header, wcs=WCS(hdul['DATA'].header)) \n",
    "\n",
    "hdul = fits.open(inter_data_path + f\"/{galaxy}_MAPS.fits\")\n",
    "Halpha = NDData(data=hdul['HA6562_FLUX'].data, mask=np.isnan(hdul['HA6562_FLUX'].data), meta=hdul['HA6562_FLUX'].header, wcs=WCS(hdul['HA6562_FLUX'].header))\n",
    "Halpha.data[muse_data.data==0] = np.nan\n",
    "\n",
    "hdul = fits.open(inter_data_path + f\"/{galaxy}_nebulae_mask_V2.fits\")\n",
    "nebulae_mask = NDData(data = hdul[0].data.astype(float), mask=Halpha.mask, meta=hdul[0].header, wcs=WCS(hdul[0].header)) \n",
    "nebulae_mask.data[nebulae_mask.data==-1] = np.nan\n",
    "\n",
    "hdul = fits.open(inter_data_path + f\"/{galaxy}_cube.fits\")\n",
    "header = hdul[0].header\n",
    "wcs = WCS(header,naxis=2)\n",
    "\n",
    "infile = open(inter_data_path + \"/Nebulae_catalogue_v3.fits\",'rb')\n",
    "hdul = Table.read(infile)\n",
    "musedata = hdul[hdul['gal_name'] == f'{galaxy}']\n",
    "\n",
    "hdul = fits.open(inter_data_path + f\"/{galaxy}_deepframe.fits\")\n",
    "sit_deep = hdul[0]\n",
    "\n",
    "coord_dic = {'NGC4535':np.array([188.5851585 , 8.19257]), 'NGC3351':np.array([160.99236896, 11.70541767]), \n",
    "             'NGC2835':np.array([139.47045857, -22.35414826]), 'NGC0628':np.array([24.17123567, 15.78081634]), \n",
    "             'NGC3627':np.array([170.06252, 12.9915])}\n",
    "zoom_dic = {'NGC4535':np.array([0.05, 0.05]), 'NGC3351':np.array([0.053, 0.053]), \n",
    "            'NGC2835':np.array([0.05, 0.05]), 'NGC0628':np.array([0.08, 0.08]),\n",
    "            'NGC3627':np.array([0.04, 0.085])}\n",
    "galaxy"
   ]
  },
  {
   "cell_type": "markdown",
   "metadata": {},
   "source": [
    "### Plot the MUSE data using aplpy and overlay the SITELLE data contours"
   ]
  },
  {
   "cell_type": "code",
   "execution_count": null,
   "metadata": {},
   "outputs": [],
   "source": [
    "gc = aplpy.FITSFigure(fits_bband)\n",
    "gc.show_contour(sit_deep, colors='green')\n",
    "\n",
    "gc.recenter(coord_dic[galaxy][0], coord_dic[galaxy][1], width=zoom_dic[galaxy][0], height=zoom_dic[galaxy][1])\n",
    "gc.show_colorscale(cmap='gist_heat', vmin=np.quantile(fits_bband.data, 0.4), vmax=np.quantile(fits_bband.data, 0.99))\n",
    "gc.set_title(f'MUSE deep frame for {galaxy}')"
   ]
  },
  {
   "cell_type": "markdown",
   "metadata": {},
   "source": [
    "# Find point sources to compare between datasets"
   ]
  },
  {
   "cell_type": "markdown",
   "metadata": {},
   "source": [
    "### Use the appropriate settings to find bright sources in the MUSE image"
   ]
  },
  {
   "cell_type": "code",
   "execution_count": null,
   "metadata": {},
   "outputs": [],
   "source": [
    "daofind = DAOStarFinder(fwhm=1/0.2, threshold=np.quantile(muse_bband.data, 0.8))\n",
    "muse_sources = daofind(muse_bband.data)\n",
    "len(muse_sources)"
   ]
  },
  {
   "cell_type": "markdown",
   "metadata": {},
   "source": [
    "### Use the plot blow to find an individual source"
   ]
  },
  {
   "cell_type": "code",
   "execution_count": null,
   "metadata": {},
   "outputs": [],
   "source": [
    "gc = aplpy.FITSFigure(fits_bband)\n",
    "\n",
    "source = 13\n",
    "plt.scatter(muse_sources[source]['xcentroid'], muse_sources[source]['ycentroid'], linewidth=2, s=500, c='green', alpha=1)\n",
    "plt.scatter(muse_sources['xcentroid'], muse_sources['ycentroid'], marker='o', facecolors='none', linewidth=2, s=100, edgecolors='blue', alpha=1)\n",
    "\n",
    "gc.recenter(coord_dic[galaxy][0], coord_dic[galaxy][1], width=zoom_dic[galaxy][0], height=zoom_dic[galaxy][1])\n",
    "gc.show_colorscale(cmap='gist_heat', vmin=np.quantile(fits_bband.data, 0.5), vmax=np.quantile(fits_bband.data, 0.99))\n",
    "gc.set_title(f'MUSE deep frame for {galaxy}')\n",
    "gc.add_grid()"
   ]
  },
  {
   "cell_type": "markdown",
   "metadata": {},
   "source": [
    "### Find the brightest points that show up in both the MUSE and SITELLE images. Manually enter them in this dictionary"
   ]
  },
  {
   "cell_type": "code",
   "execution_count": null,
   "metadata": {},
   "outputs": [],
   "source": [
    "muse_psf_dic= {'NGC4535':np.array([218]), 'NGC3351':np.array([0, 4, 16, 28]), \n",
    "               'NGC2835':np.array([29]), 'NGC0628':np.array([89, 104]),\n",
    "               'NGC3627':np.array([3])}\n",
    "\n",
    "muse_wcs_dic= {'NGC4535':np.array([3, 39, 114, 218]), 'NGC3351':np.array([14, 18, 47, 49, 58, 61]), \n",
    "               'NGC2835':np.array([4, 29, 38, 41, 55, 56, 63]), 'NGC0628':np.array([89, 92, 104, 132, 168, 188, 251, 274]),\n",
    "               'NGC3627':np.array([2, 3, 4, 13, 29, 30, 57])}\n",
    "\n",
    "muse_bright_ind = muse_wcs_dic[galaxy]\n",
    "muse_bright_wcs = muse_sources[muse_bright_ind]"
   ]
  },
  {
   "cell_type": "markdown",
   "metadata": {},
   "source": [
    "### Plot only the brightest sources from the MUSE image"
   ]
  },
  {
   "cell_type": "code",
   "execution_count": null,
   "metadata": {},
   "outputs": [],
   "source": [
    "gc = aplpy.FITSFigure(fits_bband)\n",
    "\n",
    "plt.scatter(muse_bright_wcs['xcentroid'], muse_bright_wcs['ycentroid'], marker='o', facecolors='none', linewidth=2, s=100, edgecolors='blue', alpha=1)\n",
    "\n",
    "gc.recenter(coord_dic[galaxy][0], coord_dic[galaxy][1], width=zoom_dic[galaxy][0], height=zoom_dic[galaxy][1])\n",
    "gc.show_colorscale(cmap='gist_heat', vmin=np.quantile(fits_bband.data, 0.01), vmax=np.quantile(fits_bband.data, 0.995))\n",
    "gc.set_title(f'MUSE deep frame for {galaxy}')\n",
    "gc.add_grid()"
   ]
  },
  {
   "cell_type": "markdown",
   "metadata": {},
   "source": [
    "### Find all of the brightest sources in the SITELLE image"
   ]
  },
  {
   "cell_type": "code",
   "execution_count": null,
   "metadata": {},
   "outputs": [],
   "source": [
    "daofind = DAOStarFinder(fwhm=1/0.321, threshold=np.quantile(sit_deep.data, 0.8))\n",
    "sit_sources = daofind(sit_deep.data)\n",
    "len(sit_sources)"
   ]
  },
  {
   "cell_type": "markdown",
   "metadata": {},
   "source": [
    "### Plot an individual source found above "
   ]
  },
  {
   "cell_type": "code",
   "execution_count": null,
   "metadata": {},
   "outputs": [],
   "source": [
    "gc = aplpy.FITSFigure(sit_deep)\n",
    "\n",
    "source = 159\n",
    "plt.scatter(sit_sources['xcentroid'][source], sit_sources['ycentroid'][source], marker='o', linewidth=2, s=500, c='green', alpha=1)\n",
    "plt.scatter(sit_sources['xcentroid'], sit_sources['ycentroid'], marker='o', facecolors='none', linewidth=2, s=100, edgecolors='blue', alpha=1)\n",
    "\n",
    "#gc.recenter(coord_dic[galaxy][0], coord_dic[galaxy][1], width=zoom_dic[galaxy][0], height=zoom_dic[galaxy][1])\n",
    "gc.show_colorscale(cmap='gist_heat', vmin=np.quantile(sit_deep.data, 0.5), vmax=np.quantile(sit_deep.data, 0.9995))\n",
    "gc.set_title(f'SITELLE deep frame for {galaxy}')\n",
    "gc.add_grid()"
   ]
  },
  {
   "cell_type": "markdown",
   "metadata": {},
   "source": [
    "### Manually enter the SITELLE sources here"
   ]
  },
  {
   "cell_type": "code",
   "execution_count": null,
   "metadata": {},
   "outputs": [],
   "source": [
    "sit_psf_dic = {'NGC4535':np.array([12, 45, 63]), 'NGC3351':np.array([0, 3, 5, 6, 7, 11, 21, 61, 62, 63, 64, 66, 67, 69]), \n",
    "               'NGC2835':np.array([13, 58, 69, 81, 82, 109, 113, 115, 129]), 'NGC0628':np.array([41, 86, 137]),\n",
    "               'NGC3627':np.array([0, 3, 7, 9, 13, 53, 70, 152, 155, 157, 159])}\n",
    "\n",
    "sit_wcs_dic = {'NGC4535':np.array([7, 14, 27, 45]), 'NGC3351':np.array([16, 19, 43, 44, 53, 56]), \n",
    "               'NGC2835':np.array([46, 58, 64, 65, 71, 72, 79]), 'NGC0628':np.array([43, 44, 51, 61, 70, 76, 93, 100]),\n",
    "               'NGC3627':np.array([7, 9, 12, 31, 65, 66, 148])}\n",
    "\n",
    "\n",
    "sit_bright_ind = sit_wcs_dic[galaxy]\n",
    "sit_bright_wcs = sit_sources[sit_bright_ind]"
   ]
  },
  {
   "cell_type": "markdown",
   "metadata": {},
   "source": [
    "### Plot the SITELLE sources"
   ]
  },
  {
   "cell_type": "code",
   "execution_count": null,
   "metadata": {},
   "outputs": [],
   "source": [
    "gc = aplpy.FITSFigure(sit_deep)\n",
    "\n",
    "plt.scatter(sit_bright_wcs['xcentroid'], sit_bright_wcs['ycentroid'], marker='o', facecolors='none', linewidth=2, s=100, edgecolors='blue', alpha=1)\n",
    "\n",
    "gc.recenter(coord_dic[galaxy][0], coord_dic[galaxy][1], width=zoom_dic[galaxy][0], height=zoom_dic[galaxy][1])\n",
    "gc.show_colorscale(cmap='gist_heat', vmin=np.quantile(sit_deep.data, 0.5), vmax=np.quantile(sit_deep.data, 0.9995))\n",
    "gc.set_title(f'SITELLE deep frame for {galaxy}')\n",
    "gc.add_grid()"
   ]
  },
  {
   "cell_type": "markdown",
   "metadata": {},
   "source": [
    "### Convert both the MUSE and SITELLE bright sources into degree coordinates"
   ]
  },
  {
   "cell_type": "code",
   "execution_count": null,
   "metadata": {},
   "outputs": [],
   "source": [
    "muse_world = muse_rband.wcs.pixel_to_world(muse_bright_wcs['xcentroid'], muse_bright_wcs['ycentroid'])\n",
    "muse_ra, muse_dec = muse_world.ra.degree, muse_world.dec.degree\n",
    "\n",
    "sit_world = cube.get_wcs().pixel_to_world(sit_bright_wcs['xcentroid'], sit_bright_wcs['ycentroid'])\n",
    "sit_ra, sit_dec = sit_world.ra.degree, sit_world.dec.degree\n",
    "\n",
    "arcdiff = np.average(np.sqrt((muse_ra - sit_ra)**2 + (muse_dec - sit_dec)**2) * 3600)\n",
    "print(f'The average arcsecond difference between datasets is {round(arcdiff, 5)}')"
   ]
  },
  {
   "cell_type": "markdown",
   "metadata": {},
   "source": [
    "### Plot these coordiantes on a plain scatter plot for comparision"
   ]
  },
  {
   "cell_type": "code",
   "execution_count": null,
   "metadata": {},
   "outputs": [],
   "source": [
    "point_s = 10\n",
    "\n",
    "plt.scatter(muse_ra, muse_dec, c='k', s=point_s, label='MUSE')\n",
    "plt.scatter(sit_ra, sit_dec, c='red' , s=point_s, alpha=0.75, label='SITELLE')\n",
    "\n",
    "plt.title(f'Bright source comparison of MUSE and SITELLE in {galaxy}')\n",
    "plt.figtext(0.5, -0.03, f'The average arcsecond difference between datasets is {round(arcdiff, 5)}'r'$^{\\prime\\prime}$', ha=\"center\", fontsize=10, bbox={\"facecolor\":\"orange\", \"alpha\":0.5, \"pad\":5})\n",
    "plt.xlabel('RA')\n",
    "plt.ylabel('Dec')\n",
    "plt.legend()"
   ]
  },
  {
   "cell_type": "markdown",
   "metadata": {},
   "source": [
    "### Put the MUSE pixels into SITELLE coordinates"
   ]
  },
  {
   "cell_type": "code",
   "execution_count": null,
   "metadata": {},
   "outputs": [],
   "source": [
    "muse_xsit, muse_ysit = cube.get_wcs().world_to_pixel(muse_world)"
   ]
  },
  {
   "cell_type": "markdown",
   "metadata": {},
   "source": [
    "### Compare the SITELLE coordinates with the MUSE-to_SITELLE converted bright sources"
   ]
  },
  {
   "cell_type": "code",
   "execution_count": null,
   "metadata": {},
   "outputs": [],
   "source": [
    "point_s = 10\n",
    "\n",
    "plt.scatter(muse_xsit, muse_ysit, c='k', s=point_s, label='MUSE')\n",
    "plt.scatter(sit_bright_wcs['xcentroid'], sit_bright_wcs['ycentroid'], c='red' , s=point_s, alpha=0.75, label='SITELLE')\n",
    "\n",
    "plt.title(f'Bright source pixel location in MUSE and SITELLE in {galaxy}')\n",
    "#plt.figtext(0.5, -0.03, f'The average arcsecond difference between datasets is {round(arcdiff, 5)}'r'$^{\\prime\\prime}$', ha=\"center\", fontsize=10, bbox={\"facecolor\":\"orange\", \"alpha\":0.5, \"pad\":5})\n",
    "plt.xlabel('X centroid')\n",
    "plt.ylabel('Y centroid')\n",
    "plt.legend()"
   ]
  },
  {
   "cell_type": "markdown",
   "metadata": {},
   "source": [
    "### Plot the differences in RA and dec"
   ]
  },
  {
   "cell_type": "code",
   "execution_count": null,
   "metadata": {},
   "outputs": [],
   "source": [
    "point_s = 10\n",
    "\n",
    "plt.scatter((muse_ra - sit_ra) * 3600, (muse_dec - sit_dec) * 3600, c='k', s=point_s)\n",
    "\n",
    "plt.title(f'Bright source difference in {galaxy}')\n",
    "#plt.figtext(0.5, -0.03, f'The average arcsecond difference between datasets is {round(arcdiff, 5)}'r'$^{\\prime\\prime}$', ha=\"center\", fontsize=10, bbox={\"facecolor\":\"orange\", \"alpha\":0.5, \"pad\":5})\n",
    "plt.xlabel('RA (arcsecond)')\n",
    "plt.ylabel('Dec (arcsecond)')\n",
    "plt.legend()"
   ]
  },
  {
   "cell_type": "markdown",
   "metadata": {},
   "source": [
    "### Find the average difference in RA and dec"
   ]
  },
  {
   "cell_type": "code",
   "execution_count": null,
   "metadata": {},
   "outputs": [],
   "source": [
    "ra_diff_ave = np.average(muse_ra - sit_ra) * 3600\n",
    "dec_diff_ave = np.average(muse_dec - sit_dec) * 3600\n",
    "print(f'In {galaxy} the average difference in RA is {round(ra_diff_ave, 7)}\" and in declination is {round(dec_diff_ave, 7)}\"')"
   ]
  },
  {
   "cell_type": "markdown",
   "metadata": {},
   "source": [
    "### Find the mean difference in RA and dec"
   ]
  },
  {
   "cell_type": "code",
   "execution_count": null,
   "metadata": {},
   "outputs": [],
   "source": [
    "ra_diff_med = np.median(muse_ra - sit_ra) * 3600\n",
    "dec_diff_med = np.median(muse_dec - sit_dec) * 3600\n",
    "print(f'In {galaxy} the median difference in RA is {round(ra_diff_med, 7)}\" and in declination is {round(dec_diff_med, 7)}\"')"
   ]
  },
  {
   "cell_type": "markdown",
   "metadata": {},
   "source": [
    "### Save bright sources that will be used for WCS calibration"
   ]
  },
  {
   "cell_type": "code",
   "execution_count": null,
   "metadata": {},
   "outputs": [],
   "source": [
    "muse_bright_wcs.write(inter_data_path + f'/{galaxy}_muse_wcs_sources.fits', overwrite=True) \n",
    "sit_bright_wcs.write(inter_data_path + f'/{galaxy}_sitelle_wcs_sources.fits', overwrite=True) "
   ]
  },
  {
   "cell_type": "markdown",
   "metadata": {},
   "source": [
    "# Create ePSFs"
   ]
  },
  {
   "cell_type": "markdown",
   "metadata": {},
   "source": [
    "### Select the bright sources that will be used for the PSFs"
   ]
  },
  {
   "cell_type": "code",
   "execution_count": null,
   "metadata": {},
   "outputs": [],
   "source": [
    "muse_bright_ind = muse_psf_dic[galaxy]\n",
    "muse_bright_psf = muse_sources[muse_bright_ind]\n",
    "\n",
    "sit_bright_ind = sit_psf_dic[galaxy]\n",
    "sit_bright_psf = sit_sources[sit_bright_ind]"
   ]
  },
  {
   "cell_type": "markdown",
   "metadata": {},
   "source": [
    "### Create background subtract NDData objcts"
   ]
  },
  {
   "cell_type": "code",
   "execution_count": null,
   "metadata": {},
   "outputs": [],
   "source": [
    "mean_val_muse, median_val_muse, std_val_muse = sigma_clipped_stats(fits_bband.data, sigma=2.0)\n",
    "mean_val_sit, median_val_sit, std_val_sit = sigma_clipped_stats(sit_deep.data, sigma=2.0)\n",
    "\n",
    "back_sit = sit_deep.data - median_val_sit\n",
    "back_muse = fits_bband.data - median_val_muse\n",
    "\n",
    "NDsit = NDData(data=back_sit)\n",
    "NDmuse = NDData(data=back_muse)"
   ]
  },
  {
   "cell_type": "markdown",
   "metadata": {},
   "source": [
    "### Create tables containing only the pixel locations of each image"
   ]
  },
  {
   "cell_type": "code",
   "execution_count": null,
   "metadata": {},
   "outputs": [],
   "source": [
    "stars_sit = Table()\n",
    "stars_sit['x'] = sit_bright_psf['xcentroid']\n",
    "stars_sit['y'] = sit_bright_psf['ycentroid'] \n",
    "\n",
    "stars_muse = Table()\n",
    "stars_muse['x'] = muse_bright_psf['xcentroid']\n",
    "stars_muse['y'] = muse_bright_psf['ycentroid']"
   ]
  },
  {
   "cell_type": "markdown",
   "metadata": {},
   "source": [
    "### Extract the stars using photutils"
   ]
  },
  {
   "cell_type": "code",
   "execution_count": null,
   "metadata": {},
   "outputs": [],
   "source": [
    "im_pix = 25\n",
    "ex_sit = extract_stars(NDsit, stars_sit, size=im_pix) \n",
    "yi_sit, xi_sit = np.indices(ex_sit[0].data.shape)\n",
    "\n",
    "ex_muse = extract_stars(NDmuse, stars_muse, size=im_pix*(0.321/0.2)) \n",
    "yi_muse, xi_muse = np.indices(ex_muse[0].data.shape)"
   ]
  },
  {
   "cell_type": "markdown",
   "metadata": {},
   "source": [
    "### Plot one of the sources in 3D"
   ]
  },
  {
   "cell_type": "code",
   "execution_count": null,
   "metadata": {},
   "outputs": [],
   "source": [
    "fig = plt.figure()\n",
    "frame = fig.add_subplot(1,1,1, projection='3d', azim=-45, elev=30)\n",
    "frame.plot_surface(xi_sit, yi_sit, ex_sit[0].data, cmap='jet')\n",
    "frame.set_xlabel('X-pixel')\n",
    "frame.set_ylabel('Y-pixel')\n",
    "frame.set_zlabel('Flux Amplitude')\n",
    "frame.set_title(f'3D SITELLE star in {galaxy}')\n",
    "plt.show()"
   ]
  },
  {
   "cell_type": "markdown",
   "metadata": {},
   "source": [
    "### Define the functional form of a 2D gaussian"
   ]
  },
  {
   "cell_type": "code",
   "execution_count": null,
   "metadata": {},
   "outputs": [],
   "source": [
    "def f(x, y, A, x0, y0, sigma_x, sigma_y):         ### This is actually not used, the function in the next cell is what is used to fit the point sources \n",
    "    return A*np.exp(-(x-x0)**2/(2*sigma_x**2) -(y-y0)**2/(2*sigma_y**2))"
   ]
  },
  {
   "cell_type": "markdown",
   "metadata": {},
   "source": [
    "### curve_fit only takes in 1D data, so here is a flattened version of the gaussian"
   ]
  },
  {
   "cell_type": "code",
   "execution_count": null,
   "metadata": {},
   "outputs": [],
   "source": [
    "def twoD_Gaussian(xy, A, x0, y0, sigma_x, sigma_y):         ### This is actually not used, the function in the next cell is what is used to fit the point sources \n",
    "    x, y = xy\n",
    "    g = A*np.exp(-(x-x0)**2/(2*sigma_x**2) -(y-y0)**2/(2*sigma_y**2))\n",
    "    return g.ravel()"
   ]
  },
  {
   "cell_type": "markdown",
   "metadata": {},
   "source": [
    "### Find the necessary parameters to fit the 2D gaussian using the data set"
   ]
  },
  {
   "cell_type": "code",
   "execution_count": null,
   "metadata": {},
   "outputs": [],
   "source": [
    "y0, x0 = np.unravel_index(np.argmax(ex_sit[0].data), ex_sit[0].data.shape)\n",
    "sigma = np.std(ex_sit[0].data)\n",
    "amp = np.max(ex_sit[0].data)"
   ]
  },
  {
   "cell_type": "markdown",
   "metadata": {},
   "source": [
    "### Use the parameters above and the functional form to fit the gaussian with curve_fit"
   ]
  },
  {
   "cell_type": "code",
   "execution_count": null,
   "metadata": {},
   "outputs": [],
   "source": [
    "init_guess = (amp, x0, y0, 0.5, 0.5)\n",
    "\n",
    "fit, fit_var = curve_fit(twoD_Gaussian, (xi_sit, yi_sit), ex_sit[0].data.ravel(), p0=init_guess)\n",
    "\n",
    "data_fit = twoD_Gaussian((xi_sit, yi_sit), fit[0], fit[1], fit[2], fit[3], fit[4])\n",
    "data_fit = data_fit.reshape(ex_sit[0].shape)\n",
    "fit"
   ]
  },
  {
   "cell_type": "markdown",
   "metadata": {},
   "source": [
    "### Plot the model"
   ]
  },
  {
   "cell_type": "code",
   "execution_count": null,
   "metadata": {},
   "outputs": [],
   "source": [
    "fig = plt.figure()\n",
    "frame = fig.add_subplot(1,1,1, projection='3d', azim=-45, elev=30)\n",
    "frame.plot_surface(xi_sit, yi_sit, data_fit, cmap='jet')\n",
    "frame.set_xlabel('X-pixel')\n",
    "frame.set_ylabel('Y-pixel')\n",
    "frame.set_zlabel('Flux Amplitude')\n",
    "frame.set_title(f'3D SITELLE fitted star in {galaxy}')\n",
    "plt.show()"
   ]
  },
  {
   "cell_type": "markdown",
   "metadata": {},
   "source": [
    "### Plot the SITELLE stars"
   ]
  },
  {
   "cell_type": "code",
   "execution_count": null,
   "metadata": {},
   "outputs": [],
   "source": [
    "fig = plt.figure(figsize=(7, 7))\n",
    "axes = [plt.subplot(4,5,i+1) for i in range(len(ex_sit))]\n",
    "\n",
    "for i in range(len(axes)):\n",
    "    y0, x0 = np.unravel_index(np.argmax(ex_sit[i].data), ex_sit[i].data.shape)\n",
    "    yi_sit, xi_sit = np.indices(ex_sit[i].data.shape)\n",
    "    amp = np.max(ex_sit[i].data)\n",
    "    init_guess = (amp, x0, y0, 0.5, 0.5)\n",
    "    fit, fit_var = curve_fit(twoD_Gaussian, (xi_sit, yi_sit), ex_sit[i].data.ravel(), p0=init_guess)\n",
    "    fwhm = 2.355 * np.mean([fit[3], fit[4]]) * 0.321\n",
    "\n",
    "    norm = simple_norm(ex_sit[i].data, 'log', percent=99.0)\n",
    "    axes[i].imshow(ex_sit[i],  origin='lower', cmap='viridis', norm=norm)#, vmin=np.quantile(ex_sit[i].data, 0.01), vmax=np.quantile(ex_sit[i].data, 0.9))\n",
    "\n",
    "    axes[i].set_title(f'FWHM: {round(fwhm, 4)}\"', fontsize=9)\n",
    "\n",
    "plt.tight_layout()\n",
    "fig.suptitle(f'SITELLE stars in {galaxy}', y=1.02)#, fontsize=20)"
   ]
  },
  {
   "cell_type": "markdown",
   "metadata": {},
   "source": [
    "### Plot the MUSE stars"
   ]
  },
  {
   "cell_type": "code",
   "execution_count": null,
   "metadata": {},
   "outputs": [],
   "source": [
    "fig = plt.figure(figsize=(7, 7))\n",
    "axes = [plt.subplot(4,2,i+1) for i in range(len(ex_muse))]\n",
    "\n",
    "for i in range(len(axes)):\n",
    "    y0, x0 = np.unravel_index(np.argmax(ex_muse[i].data), ex_muse[i].data.shape)\n",
    "    yi_muse, xi_muse = np.indices(ex_muse[i].data.shape)\n",
    "    amp = np.max(ex_muse[i].data)\n",
    "    init_guess = (amp, x0, y0, 0.5, 0.5)\n",
    "    fit, fit_var = curve_fit(twoD_Gaussian, (xi_muse, yi_muse), ex_muse[i].data.ravel(), p0=init_guess)\n",
    "    fwhm = 2.355 * np.mean([fit[3], fit[4]]) * 0.2\n",
    "\n",
    "    norm = simple_norm(ex_muse[i].data, 'log', percent=99.0)\n",
    "    axes[i].imshow(ex_muse[i],  origin='lower', cmap='viridis', norm=norm)#, vmin=np.quantile(ex_muse[i].data, 0.01), vmax=np.quantile(ex_muse[i].data, 0.9))\n",
    "    \n",
    "    axes[i].set_title(f'FWHM: {round(fwhm, 4)}\"', fontsize=9)\n",
    "    #axes[i].set_title(f'{muse_bright_ind[i]}', fontsize=9)\n",
    "    #axes[i].set_title(f'{i}', fontsize=9)\n",
    "\n",
    "plt.tight_layout()\n",
    "fig.suptitle(f'MUSE stars in {galaxy}', y=1.02, x=0.25)#, fontsize=20)"
   ]
  },
  {
   "cell_type": "markdown",
   "metadata": {},
   "source": [
    "### Make the ePSF objects for both images"
   ]
  },
  {
   "cell_type": "code",
   "execution_count": null,
   "metadata": {},
   "outputs": [],
   "source": [
    "oversamp = 3\n",
    "epsf_builder = EPSFBuilder(oversampling=oversamp, maxiters=7, smoothing_kernel= 'quadratic',\n",
    "                            progress_bar=False) \n",
    "epsf_sit, fitted_stars_sit = epsf_builder(ex_sit)\n",
    "epsf_muse, fitted_stars_muse = epsf_builder(ex_muse)"
   ]
  },
  {
   "cell_type": "markdown",
   "metadata": {},
   "source": [
    "### Plot an ePSf from each image for comparison"
   ]
  },
  {
   "cell_type": "code",
   "execution_count": null,
   "metadata": {},
   "outputs": [],
   "source": [
    "nrows = 1\n",
    "ncols = 2\n",
    "fig, ax = plt.subplots(nrows=nrows, ncols=ncols, figsize=(10, 5), squeeze=True)\n",
    "ax = ax.ravel()\n",
    "\n",
    "norm = simple_norm(epsf_sit.data, 'log', percent=99.0)\n",
    "ax[0].imshow(epsf_sit.data,  origin='lower', cmap='viridis', norm=norm)#, vmin=np.quantile(epsf_sit.data, 0.1), vmax=np.quantile(epsf_sit.data, 0.99))\n",
    "\n",
    "y0, x0 = np.unravel_index(np.argmax(epsf_sit.data), epsf_sit.data.shape)\n",
    "amp = np.max(epsf_sit.data)\n",
    "init_guess = (amp, x0, y0, 0.5, 0.5)\n",
    "yi, xi = np.indices(epsf_sit.data.shape)\n",
    "fit, fit_var = curve_fit(twoD_Gaussian, (xi, yi), epsf_sit.data.ravel(), p0=init_guess)\n",
    "fwhm = 2.355 * np.mean([fit[3], fit[4]]) * 0.321\n",
    "fwhm /= oversamp    ### Account for oversampling when calculating fwhm\n",
    "\n",
    "ax[0].set_title(f'SITELLE {galaxy} ePSF, FWHM: {round(fwhm, 4)}')\n",
    "\n",
    "norm = simple_norm(epsf_muse.data, 'log', percent=99.0)\n",
    "ax[1].imshow(epsf_muse.data, origin='lower', cmap='viridis', norm=norm)#, vmin=np.quantile(epsf_muse.data, 0.1), vmax=np.quantile(epsf_muse.data, 0.99))\n",
    "\n",
    "y0, x0 = np.unravel_index(np.argmax(epsf_muse.data), epsf_muse.data.shape)\n",
    "amp = np.max(epsf_muse.data)\n",
    "init_guess = (amp, x0, y0, 0.5, 0.5)\n",
    "yi, xi = np.indices(epsf_muse.data.shape)\n",
    "fit, fit_var = curve_fit(twoD_Gaussian, (xi, yi), epsf_muse.data.ravel(), p0=init_guess)\n",
    "fwhm = 2.355 * np.mean([fit[3], fit[4]]) * 0.2\n",
    "fwhm /= oversamp   ### Account for oversampling when calculating fwhm\n",
    "ax[1].set_title(f'MUSE {galaxy} ePSF, FWHM: {round(fwhm, 4)}')"
   ]
  },
  {
   "cell_type": "markdown",
   "metadata": {},
   "source": [
    "### Plot the input SITELLE stars with the updated centers and fluxes"
   ]
  },
  {
   "cell_type": "code",
   "execution_count": null,
   "metadata": {},
   "outputs": [],
   "source": [
    "fig = plt.figure(figsize=(7, 7))\n",
    "axes = [plt.subplot(4,4,i+1) for i in range(len(ex_sit))]\n",
    "\n",
    "for i in range(len(axes)):\n",
    "    axes[i].imshow(fitted_stars_sit.data[i],  origin='lower', cmap='gist_heat', vmin=np.quantile(fitted_stars_sit.data[i], 0.01), vmax=np.quantile(fitted_stars_sit.data[i], 0.9995))\n",
    "\n",
    "plt.tight_layout()\n",
    "fig.suptitle(f'SITELLE ePSF stars in {galaxy}', y=1.02, fontsize=10)"
   ]
  },
  {
   "cell_type": "markdown",
   "metadata": {},
   "source": [
    "### Plot the input MUSE stars with the updated centers and fluxes"
   ]
  },
  {
   "cell_type": "code",
   "execution_count": null,
   "metadata": {},
   "outputs": [],
   "source": [
    "fig = plt.figure(figsize=(7, 7))\n",
    "axes = [plt.subplot(4,4,i+1) for i in range(len(ex_muse))]\n",
    "\n",
    "for i in range(len(axes)):\n",
    "    axes[i].imshow(fitted_stars_muse.data[i],  origin='lower', cmap='gist_heat', vmin=np.quantile(fitted_stars_muse.data[i], 0.01), vmax=np.quantile(fitted_stars_muse.data[i], 0.995))\n",
    "\n",
    "plt.tight_layout()\n",
    "fig.suptitle(f'MUSE ePSF stars in {galaxy}', y=1.02, fontsize=10)"
   ]
  },
  {
   "cell_type": "markdown",
   "metadata": {},
   "source": [
    "### Plot the MUSE deep frame image with the ePSF fitted locations"
   ]
  },
  {
   "cell_type": "code",
   "execution_count": null,
   "metadata": {},
   "outputs": [],
   "source": [
    "gc = aplpy.FITSFigure(fits_rband)\n",
    "\n",
    "plt.scatter(np.transpose(fitted_stars_muse.center_flat)[0], np.transpose(fitted_stars_muse.center_flat)[1], marker='o', facecolors='none', linewidth=2, s=100, edgecolors='blue', alpha=1)\n",
    "\n",
    "gc.recenter(coord_dic[galaxy][0], coord_dic[galaxy][1], width=zoom_dic[galaxy][0], height=zoom_dic[galaxy][1])\n",
    "gc.show_colorscale(cmap='gist_heat', vmin=np.quantile(fits_rband.data, 0.01), vmax=np.quantile(fits_rband.data, 0.995))\n",
    "gc.set_title(f'MUSE deep frame for {galaxy}')\n",
    "gc.add_grid()"
   ]
  },
  {
   "cell_type": "markdown",
   "metadata": {},
   "source": [
    "### Plot the SITELLE image with the ePSF fitted locations"
   ]
  },
  {
   "cell_type": "code",
   "execution_count": null,
   "metadata": {},
   "outputs": [],
   "source": [
    "gc = aplpy.FITSFigure(sit_deep)\n",
    "\n",
    "plt.scatter(np.transpose(fitted_stars_sit.center_flat)[0], np.transpose(fitted_stars_sit.center_flat)[1], marker='o', facecolors='none', linewidth=2, s=100, edgecolors='blue', alpha=1)\n",
    "\n",
    "#gc.recenter(coord_dic[galaxy][0], coord_dic[galaxy][1], width=zoom_dic[galaxy][0], height=zoom_dic[galaxy][0])\n",
    "gc.show_colorscale(cmap='gist_heat', vmin=np.quantile(sit_deep.data, 0.1), vmax=np.quantile(sit_deep.data, 0.9995))\n",
    "gc.set_title(f'SITELLE deep frame for {galaxy}')\n",
    "gc.add_grid()"
   ]
  }
 ],
 "metadata": {
  "kernelspec": {
   "display_name": "orb3",
   "language": "python",
   "name": "python3"
  },
  "language_info": {
   "codemirror_mode": {
    "name": "ipython",
    "version": 3
   },
   "file_extension": ".py",
   "mimetype": "text/x-python",
   "name": "python",
   "nbconvert_exporter": "python",
   "pygments_lexer": "ipython3",
   "version": "3.7.16"
  }
 },
 "nbformat": 4,
 "nbformat_minor": 2
}
